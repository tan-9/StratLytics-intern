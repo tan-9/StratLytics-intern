{
 "cells": [
  {
   "cell_type": "code",
   "execution_count": null,
   "id": "34bebbc2",
   "metadata": {},
   "outputs": [],
   "source": [
    "import pandas as pd\n",
    "import yfinance as yf\n",
    "import matplotlib.pyplot as plt\n",
    "\n",
    "# Define the ticker symbols you want to stream\n",
    "symbols = ['AAPL', 'MSFT', 'GOOGL']\n",
    "\n",
    "# Create empty DataFrames to store the streaming data\n",
    "dfs = {symbol: pd.DataFrame(columns=['Datetime', 'Close']) for symbol in symbols}\n",
    "\n",
    "#     # Plot the updated data\n",
    "#     fig, ax = plt.subplots()\n",
    "#     for symbol in symbols:\n",
    "#         ax.plot(dfs[symbol].index, dfs[symbol]['Close'], label=symbol)\n",
    "#     ax.legend()\n",
    "#     ax.set_xlabel('Time')\n",
    "#     ax.set_ylabel('Close Price')\n",
    "#     plt.show()\n",
    "\n",
    "# Continuously fetch and process data for each symbol\n",
    "\n"
   ]
  },
  {
   "cell_type": "code",
   "execution_count": null,
   "id": "3dc04b17",
   "metadata": {},
   "outputs": [],
   "source": [
    "def fetch_and_process_data(symbol):\n",
    "    # Fetch the data using yfinance\n",
    "    data = yf.download(symbol, period='1d', interval='1m')\n",
    "    # Add the symbol as a column in the DataFrame\n",
    "    data['symbol'] = symbol\n",
    "    dfs[symbol] = dfs[symbol].append(data[['symbol', 'Close']])\n",
    "    print(f\"{symbol}\")\n",
    "    print(dfs[symbol])"
   ]
  },
  {
   "cell_type": "code",
   "execution_count": null,
   "id": "09f3f823",
   "metadata": {},
   "outputs": [],
   "source": [
    "while True:\n",
    "    for symbol in symbols:\n",
    "        fetch_and_process_data(symbol)"
   ]
  },
  {
   "cell_type": "code",
   "execution_count": null,
   "id": "1f2e3324",
   "metadata": {},
   "outputs": [],
   "source": []
  }
 ],
 "metadata": {
  "kernelspec": {
   "display_name": "Python 3 (ipykernel)",
   "language": "python",
   "name": "python3"
  },
  "language_info": {
   "codemirror_mode": {
    "name": "ipython",
    "version": 3
   },
   "file_extension": ".py",
   "mimetype": "text/x-python",
   "name": "python",
   "nbconvert_exporter": "python",
   "pygments_lexer": "ipython3",
   "version": "3.9.13"
  }
 },
 "nbformat": 4,
 "nbformat_minor": 5
}
